{
 "cells": [
  {
   "cell_type": "code",
   "execution_count": null,
   "id": "572b0a49",
   "metadata": {},
   "outputs": [
    {
     "name": "stdout",
     "output_type": "stream",
     "text": [
      "Regular expression validator over the alphabet {a, b, |, *, (, )}\n",
      "Enter regular expression: ab\n",
      "VALID: ab\n",
      "Enter regular expression: ab(ba)^*\n",
      "INVALID: ab(ba)^*\n",
      "Enter regular expression: ab(ba)*\n",
      "VALID: ab(ba)*\n",
      "Enter regular expression: ((ab) | (aa)*\n",
      "INVALID: ((ab) | (aa)*\n",
      "Enter regular expression: ((ab) | (aa)*)\n",
      "INVALID: ((ab) | (aa)*)\n",
      "Enter regular expression: *b\n",
      "VALID: *b\n",
      "Enter regular expression: $\n",
      "INVALID: $\n"
     ]
    }
   ],
   "source": [
    "\n",
    "#Input Validator  \n",
    "\n",
    "#January 18, 2023\n",
    "#Purpose: detect any input values from the user \n",
    "#Python\n",
    "\n",
    "import re\n",
    "\n",
    "# define the set of valid characters\n",
    "valid_chars = \"[ab*|()]\"\n",
    "\n",
    "# print instructions for the user\n",
    "print(\"Regular expression validator over the alphabet {a, b, |, *, (, )}\")\n",
    "\n",
    "while True:\n",
    "    # get the regular expression from the user\n",
    "    expression = input(\"Enter regular expression: \")\n",
    "\n",
    "    # ff the user enters an empty string, break out of the loop\n",
    "    if expression == \"\":\n",
    "        break\n",
    "\n",
    "    # remove all valid characters from the expression using re.sub()\n",
    "    invalid_chars = re.sub(valid_chars, \"\", expression)\n",
    "\n",
    "    # if there are no invalid characters remaining, the expression is valid\n",
    "    if invalid_chars == \"\":\n",
    "        print(\"VALID:\", expression)\n",
    "\n",
    "    # if there are invalid characters remaining, the expression is invalid\n",
    "    else:\n",
    "        print(\"INVALID:\", expression)\n",
    "\n",
    "# print a message when the program has terminated\n",
    "print(\"Program terminated.\")\n"
   ]
  },
  {
   "cell_type": "code",
   "execution_count": null,
   "id": "a24014bd",
   "metadata": {},
   "outputs": [],
   "source": []
  }
 ],
 "metadata": {
  "kernelspec": {
   "display_name": "Python 3 (ipykernel)",
   "language": "python",
   "name": "python3"
  },
  "language_info": {
   "codemirror_mode": {
    "name": "ipython",
    "version": 3
   },
   "file_extension": ".py",
   "mimetype": "text/x-python",
   "name": "python",
   "nbconvert_exporter": "python",
   "pygments_lexer": "ipython3",
   "version": "3.9.17"
  }
 },
 "nbformat": 4,
 "nbformat_minor": 5
}
